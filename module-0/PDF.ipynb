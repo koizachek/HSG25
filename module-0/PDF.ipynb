{
 "cells": [
  {
   "cell_type": "code",
   "execution_count": 83,
   "id": "06ee9b1d-4391-420a-ab82-f9c74f696e6a",
   "metadata": {},
   "outputs": [],
   "source": [
    "#!pip install unstructured\n",
    "#!pip install pdfminer.six\n",
    "#!pip install --upgrade pdfminer.six\n",
    "#!pip install unstructured_inference\n",
    "#!pip install unstructured.chunking\n",
    "#!pip install PyPDF2\n",
    "#!pip install PyPDF2 unstructured"
   ]
  },
  {
   "cell_type": "code",
   "execution_count": 97,
   "id": "38dd8f85-263a-412c-a374-69f3e36652e4",
   "metadata": {},
   "outputs": [],
   "source": [
    "from pdfminer.high_level import extract_text\n",
    "from unstructured.partition.pdf import partition_pdf\n",
    "from unstructured.partition.text import partition_text\n",
    "from PyPDF2 import PdfReader\n",
    "import os"
   ]
  },
  {
   "cell_type": "code",
   "execution_count": 85,
   "id": "6ce94026-5a2d-4e5a-835a-c9419f8da569",
   "metadata": {},
   "outputs": [],
   "source": [
    "# Path to your PDF file\n",
    "pdf_path = \"YOUR.pdf\"\n",
    "\n",
    "# Extract text from PDF\n",
    "reader = PdfReader(pdf_path)\n",
    "text = \"\"\n",
    "for page in reader.pages:\n",
    "    text += page.extract_text()\n",
    "    \n",
    "# Print the extracted text\n",
    "#print(text)  "
   ]
  },
  {
   "cell_type": "code",
   "execution_count": 91,
   "id": "18265169-ed2a-436c-bce6-793e7f42e68c",
   "metadata": {},
   "outputs": [],
   "source": [
    "# Process the extracted text with unstructured\n",
    "elements = partition_text(text=text)\n",
    "\n",
    "# Print or save the processed elements\n",
    "for element in elements:\n",
    "    print(element.text)"
   ]
  },
  {
   "cell_type": "code",
   "execution_count": 99,
   "id": "53a8b6b7-98eb-49d8-aa2d-fe107e691b72",
   "metadata": {},
   "outputs": [
    {
     "name": "stdout",
     "output_type": "stream",
     "text": [
      "File saved to: ./processed_text.txt\n"
     ]
    }
   ],
   "source": [
    "# Step 3: Save the processed elements to a custom location\n",
    "save_path = \"./processed_text.txt\"  # Change this path\n",
    "with open(save_path, \"w\") as f:\n",
    "    for element in elements:\n",
    "        f.write(element.text + \"\\n\")\n",
    "\n",
    "print(f\"File saved to: {save_path}\")"
   ]
  },
  {
   "cell_type": "code",
   "execution_count": null,
   "id": "053de424-192f-4ae5-858e-cb88c9f4b369",
   "metadata": {},
   "outputs": [],
   "source": []
  },
  {
   "cell_type": "code",
   "execution_count": null,
   "id": "4822cac4-a29e-42b6-b784-f1236fad284a",
   "metadata": {},
   "outputs": [],
   "source": []
  },
  {
   "cell_type": "code",
   "execution_count": null,
   "id": "031d68ba-3307-43c9-85d2-9c67d734548c",
   "metadata": {},
   "outputs": [],
   "source": []
  },
  {
   "cell_type": "code",
   "execution_count": null,
   "id": "8e49addf-8ea4-405c-9678-3560a4b234c3",
   "metadata": {},
   "outputs": [],
   "source": []
  }
 ],
 "metadata": {
  "kernelspec": {
   "display_name": "Python 3 (ipykernel)",
   "language": "python",
   "name": "python3"
  },
  "language_info": {
   "codemirror_mode": {
    "name": "ipython",
    "version": 3
   },
   "file_extension": ".py",
   "mimetype": "text/x-python",
   "name": "python",
   "nbconvert_exporter": "python",
   "pygments_lexer": "ipython3",
   "version": "3.12.2"
  }
 },
 "nbformat": 4,
 "nbformat_minor": 5
}
